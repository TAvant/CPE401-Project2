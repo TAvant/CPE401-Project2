{
 "metadata": {
  "name": "",
  "signature": "sha256:08a9991fca391089e07d092ea7c52314617354695c2d50262748d8a8f1ec87e4"
 },
 "nbformat": 3,
 "nbformat_minor": 0,
 "worksheets": [
  {
   "cells": [
    {
     "cell_type": "heading",
     "level": 1,
     "metadata": {},
     "source": [
      "Programming Assignment 4: Network Measurement"
     ]
    },
    {
     "cell_type": "markdown",
     "metadata": {},
     "source": [
      "Using PlanetLab platform we'll trace towards google.com and akamai.com. We'll try to utilize as many possible PlanetLab nodes for our vantage points and report all IP addresses that we observed for these destinations, as well as their respective RTT from each of the respective vantage points."
     ]
    },
    {
     "cell_type": "code",
     "collapsed": false,
     "input": [
      "# python imports\n",
      "import os, re\n",
      "import pandas as pd\n",
      "from subprocess import call, Popen, PIPE"
     ],
     "language": "python",
     "metadata": {},
     "outputs": [],
     "prompt_number": 66
    },
    {
     "cell_type": "code",
     "collapsed": false,
     "input": [
      "# defined functions\n",
      "def directoryGenerator(directory):\n",
      "    for filename in os.listdir(directory):\n",
      "        if not filename.startswith('.'): yield filename\n",
      "\n",
      "def fileGenerator(filename):\n",
      "    with open(filename, 'r') as f:\n",
      "        for line in f:\n",
      "            yield line.strip()\n",
      "            \n",
      "def cleanNodes(filename, urlGenerator):\n",
      "    with open(filename, 'w') as f:\n",
      "        for node in urlGenerator:\n",
      "            f.write(node.split()[0].strip() + '\\n')\n",
      "            \n",
      "def deployExecuteTraceroute(filename, mySlice, fileGenerator):\n",
      "    for node in fileGenerator:\n",
      "        call('scp -o UserKnownHostsFile=/dev/null -o StrictHostKeyChecking=no -i ~/.ssh/id_rsa -r ' + filename + ' ' + mySlice + '@' + node + ':', shell=True)\n",
      "        call('ssh -o UserKnownHostsFile=/dev/null -o StrictHostKeyChecking=no -v -l ' + mySlice + ' -i ~/.ssh/id_rsa ' + node + ' python ' + filename + ' ' + node, shell=True)\n",
      "        \n",
      "def retrieveTracerouteData(urls, mySlice, fileGenerator):\n",
      "    for node in fileGenerator:\n",
      "        for url in urls:\n",
      "            sp = Popen(['scp -o UserKnownHostsFile=/dev/null -o StrictHostKeyChecking=no ' + mySlice + '@' + node + ':' + node + '-' + url + '.txt traceroutes/'], stdout=PIPE, shell=True)\n",
      "            sp.wait()\n",
      "            \n",
      "def csvFileCreation(cvsfile, directoryGenerator):\n",
      "    num = 0\n",
      "    with open(cvsfile, 'w') as fout:\n",
      "        fout.write(',Planet-Lab Node, Domain Name, IP Address, RTT (ms)\\n')\n",
      "        for filename in directoryGenerator:\n",
      "            num += 1\n",
      "            node = url = ip = rtt = 'N/A'\n",
      "            with open('traceroutes/' + filename, 'r') as fin:\n",
      "                filedata = fin.readlines()\n",
      "            if filedata:\n",
      "                node = re.sub(r'-\\w+\\.com\\.txt', '', filename)\n",
      "                match = re.search(r'\\w+\\.com', filedata[0])\n",
      "                if match: url = match.group()\n",
      "                match = re.search(r'\\d+\\.\\d+\\.\\d+\\.\\d+', filedata[0])\n",
      "                if match: ip = match.group()\n",
      "                if '* * *' not in filedata[-1]: rtt = ' '.join(filedata[-1].split()[-2])\n",
      "                fout.write(str(num) + ',' + node + ',' + url + ',' + ip + ',' + rtt + '\\n')"
     ],
     "language": "python",
     "metadata": {},
     "outputs": [],
     "prompt_number": 100
    },
    {
     "cell_type": "markdown",
     "metadata": {},
     "source": [
      "We'll need to remove any nodes that are not operational then copy/past the good nodes into a file named 'urls.txt.' Now we need to clean the 'urls.txt' file so we have a a file with only a list of the good nodes' urls, which we'll call 'clean-urls.txt.'"
     ]
    },
    {
     "cell_type": "code",
     "collapsed": false,
     "input": [
      "# clean the url file\n",
      "cleanNodes('data/clean-nodes.txt', fileGenerator('data/nodes.txt'))"
     ],
     "language": "python",
     "metadata": {},
     "outputs": [],
     "prompt_number": 3
    },
    {
     "cell_type": "markdown",
     "metadata": {},
     "source": [
      "Before we continue we need to create a Python program that will perform our traceroutes to both google.com and akamai.com and put the resulting data into a file for each url, we'll call this file 'traceroute.py.' Now that we have our list of working nodes and our traceroute program, lets deploy our 'traceroute.py' file to all of the nodes and execute it. "
     ]
    },
    {
     "cell_type": "code",
     "collapsed": false,
     "input": [
      "# deploy and execute traceroute to all nodes\n",
      "deployExecuteTraceroute('traceroute.py', 'unr_Thomas', fileGenerator('data/clean-nodes.txt'))"
     ],
     "language": "python",
     "metadata": {},
     "outputs": [],
     "prompt_number": 4
    },
    {
     "cell_type": "markdown",
     "metadata": {},
     "source": [
      "Now, we need to collect all of our data stored at each of the nodes and store the files in a local directory called 'traceroutes.' "
     ]
    },
    {
     "cell_type": "code",
     "collapsed": false,
     "input": [
      "# retrieve data from nodes\n",
      "retrieveTracerouteData(['google.com', 'akamai.com'], 'unr_Thomas', fileGenerator('data/clean-nodes.txt'))"
     ],
     "language": "python",
     "metadata": {},
     "outputs": [
      {
       "ename": "KeyboardInterrupt",
       "evalue": "",
       "output_type": "pyerr",
       "traceback": [
        "\u001b[0;31m---------------------------------------------------------------------------\u001b[0m\n\u001b[0;31mKeyboardInterrupt\u001b[0m                         Traceback (most recent call last)",
        "\u001b[0;32m<ipython-input-85-06c720b88781>\u001b[0m in \u001b[0;36m<module>\u001b[0;34m()\u001b[0m\n\u001b[1;32m      1\u001b[0m \u001b[0;31m# retrieve data from nodes\u001b[0m\u001b[0;34m\u001b[0m\u001b[0;34m\u001b[0m\u001b[0m\n\u001b[0;32m----> 2\u001b[0;31m \u001b[0mretrieveTracerouteData\u001b[0m\u001b[0;34m(\u001b[0m\u001b[0;34m[\u001b[0m\u001b[0;34m'google.com'\u001b[0m\u001b[0;34m,\u001b[0m \u001b[0;34m'akamai.com'\u001b[0m\u001b[0;34m]\u001b[0m\u001b[0;34m,\u001b[0m \u001b[0;34m'unr_Thomas'\u001b[0m\u001b[0;34m,\u001b[0m \u001b[0mfileGenerator\u001b[0m\u001b[0;34m(\u001b[0m\u001b[0;34m'clean-nodes.txt'\u001b[0m\u001b[0;34m)\u001b[0m\u001b[0;34m)\u001b[0m\u001b[0;34m\u001b[0m\u001b[0m\n\u001b[0m",
        "\u001b[0;32m<ipython-input-83-26d3333c3da8>\u001b[0m in \u001b[0;36mretrieveTracerouteData\u001b[0;34m(urls, mySlice, fileGenerator)\u001b[0m\n\u001b[1;32m     23\u001b[0m         \u001b[0;32mfor\u001b[0m \u001b[0murl\u001b[0m \u001b[0;32min\u001b[0m \u001b[0murls\u001b[0m\u001b[0;34m:\u001b[0m\u001b[0;34m\u001b[0m\u001b[0m\n\u001b[1;32m     24\u001b[0m             \u001b[0msp\u001b[0m \u001b[0;34m=\u001b[0m \u001b[0mPopen\u001b[0m\u001b[0;34m(\u001b[0m\u001b[0;34m[\u001b[0m\u001b[0;34m'scp -o UserKnownHostsFile=/dev/null -o StrictHostKeyChecking=no '\u001b[0m \u001b[0;34m+\u001b[0m \u001b[0mmySlice\u001b[0m \u001b[0;34m+\u001b[0m \u001b[0;34m'@'\u001b[0m \u001b[0;34m+\u001b[0m \u001b[0mnode\u001b[0m \u001b[0;34m+\u001b[0m \u001b[0;34m':'\u001b[0m \u001b[0;34m+\u001b[0m \u001b[0mnode\u001b[0m \u001b[0;34m+\u001b[0m \u001b[0;34m'-'\u001b[0m \u001b[0;34m+\u001b[0m \u001b[0murl\u001b[0m \u001b[0;34m+\u001b[0m \u001b[0;34m'.txt traceroutes/'\u001b[0m\u001b[0;34m]\u001b[0m\u001b[0;34m,\u001b[0m \u001b[0mstdout\u001b[0m\u001b[0;34m=\u001b[0m\u001b[0mPIPE\u001b[0m\u001b[0;34m,\u001b[0m \u001b[0mshell\u001b[0m\u001b[0;34m=\u001b[0m\u001b[0mTrue\u001b[0m\u001b[0;34m)\u001b[0m\u001b[0;34m\u001b[0m\u001b[0m\n\u001b[0;32m---> 25\u001b[0;31m             \u001b[0msp\u001b[0m\u001b[0;34m.\u001b[0m\u001b[0mwait\u001b[0m\u001b[0;34m(\u001b[0m\u001b[0;34m)\u001b[0m\u001b[0;34m\u001b[0m\u001b[0m\n\u001b[0m\u001b[1;32m     26\u001b[0m \u001b[0;34m\u001b[0m\u001b[0m\n\u001b[1;32m     27\u001b[0m \u001b[0;32mdef\u001b[0m \u001b[0mcsvFileCreation\u001b[0m\u001b[0;34m(\u001b[0m\u001b[0mcvsfile\u001b[0m\u001b[0;34m,\u001b[0m \u001b[0mdirectory\u001b[0m\u001b[0;34m,\u001b[0m \u001b[0mdirectoryGenerator\u001b[0m\u001b[0;34m)\u001b[0m\u001b[0;34m:\u001b[0m\u001b[0;34m\u001b[0m\u001b[0m\n",
        "\u001b[0;32m/Users/tommyavant/anaconda/python.app/Contents/lib/python2.7/subprocess.pyc\u001b[0m in \u001b[0;36mwait\u001b[0;34m(self)\u001b[0m\n\u001b[1;32m   1373\u001b[0m             \u001b[0;32mwhile\u001b[0m \u001b[0mself\u001b[0m\u001b[0;34m.\u001b[0m\u001b[0mreturncode\u001b[0m \u001b[0;32mis\u001b[0m \u001b[0mNone\u001b[0m\u001b[0;34m:\u001b[0m\u001b[0;34m\u001b[0m\u001b[0m\n\u001b[1;32m   1374\u001b[0m                 \u001b[0;32mtry\u001b[0m\u001b[0;34m:\u001b[0m\u001b[0;34m\u001b[0m\u001b[0m\n\u001b[0;32m-> 1375\u001b[0;31m                     \u001b[0mpid\u001b[0m\u001b[0;34m,\u001b[0m \u001b[0msts\u001b[0m \u001b[0;34m=\u001b[0m \u001b[0m_eintr_retry_call\u001b[0m\u001b[0;34m(\u001b[0m\u001b[0mos\u001b[0m\u001b[0;34m.\u001b[0m\u001b[0mwaitpid\u001b[0m\u001b[0;34m,\u001b[0m \u001b[0mself\u001b[0m\u001b[0;34m.\u001b[0m\u001b[0mpid\u001b[0m\u001b[0;34m,\u001b[0m \u001b[0;36m0\u001b[0m\u001b[0;34m)\u001b[0m\u001b[0;34m\u001b[0m\u001b[0m\n\u001b[0m\u001b[1;32m   1376\u001b[0m                 \u001b[0;32mexcept\u001b[0m \u001b[0mOSError\u001b[0m \u001b[0;32mas\u001b[0m \u001b[0me\u001b[0m\u001b[0;34m:\u001b[0m\u001b[0;34m\u001b[0m\u001b[0m\n\u001b[1;32m   1377\u001b[0m                     \u001b[0;32mif\u001b[0m \u001b[0me\u001b[0m\u001b[0;34m.\u001b[0m\u001b[0merrno\u001b[0m \u001b[0;34m!=\u001b[0m \u001b[0merrno\u001b[0m\u001b[0;34m.\u001b[0m\u001b[0mECHILD\u001b[0m\u001b[0;34m:\u001b[0m\u001b[0;34m\u001b[0m\u001b[0m\n",
        "\u001b[0;32m/Users/tommyavant/anaconda/python.app/Contents/lib/python2.7/subprocess.pyc\u001b[0m in \u001b[0;36m_eintr_retry_call\u001b[0;34m(func, *args)\u001b[0m\n\u001b[1;32m    474\u001b[0m     \u001b[0;32mwhile\u001b[0m \u001b[0mTrue\u001b[0m\u001b[0;34m:\u001b[0m\u001b[0;34m\u001b[0m\u001b[0m\n\u001b[1;32m    475\u001b[0m         \u001b[0;32mtry\u001b[0m\u001b[0;34m:\u001b[0m\u001b[0;34m\u001b[0m\u001b[0m\n\u001b[0;32m--> 476\u001b[0;31m             \u001b[0;32mreturn\u001b[0m \u001b[0mfunc\u001b[0m\u001b[0;34m(\u001b[0m\u001b[0;34m*\u001b[0m\u001b[0margs\u001b[0m\u001b[0;34m)\u001b[0m\u001b[0;34m\u001b[0m\u001b[0m\n\u001b[0m\u001b[1;32m    477\u001b[0m         \u001b[0;32mexcept\u001b[0m \u001b[0;34m(\u001b[0m\u001b[0mOSError\u001b[0m\u001b[0;34m,\u001b[0m \u001b[0mIOError\u001b[0m\u001b[0;34m)\u001b[0m \u001b[0;32mas\u001b[0m \u001b[0me\u001b[0m\u001b[0;34m:\u001b[0m\u001b[0;34m\u001b[0m\u001b[0m\n\u001b[1;32m    478\u001b[0m             \u001b[0;32mif\u001b[0m \u001b[0me\u001b[0m\u001b[0;34m.\u001b[0m\u001b[0merrno\u001b[0m \u001b[0;34m==\u001b[0m \u001b[0merrno\u001b[0m\u001b[0;34m.\u001b[0m\u001b[0mEINTR\u001b[0m\u001b[0;34m:\u001b[0m\u001b[0;34m\u001b[0m\u001b[0m\n",
        "\u001b[0;31mKeyboardInterrupt\u001b[0m: "
       ]
      }
     ],
     "prompt_number": 85
    },
    {
     "cell_type": "markdown",
     "metadata": {},
     "source": [
      "Finaly we can grab the data and display it. In order to do this we will need to open the directory containing the files of the traceroutes to both google.com and akamai.com; we'll extract the the information we want and put it into a csv file, as such: \n",
      "\n",
      "    Planet-Lab node, domain Name, IP, RTT\n",
      "\n",
      "If the last trace in a file is not avaiable we'll just have N/A in place of the RTT. Once the csv file has been created we'll put our data into a dataframe and export it to html for viewing."
     ]
    },
    {
     "cell_type": "code",
     "collapsed": false,
     "input": [
      "# create csv file\n",
      "csvFileCreation('data/traceroutes.csv', directoryGenerator('traceroutes'))\n",
      "\n",
      "# populate dataframe and export to html\n",
      "df = pd.DataFrame.from_csv('data/traceroutes.csv')\n",
      "with open('traceroutes.html', 'w') as f:\n",
      "    f.write(df.to_html(justify='left'))"
     ],
     "language": "python",
     "metadata": {},
     "outputs": [],
     "prompt_number": 102
    },
    {
     "cell_type": "code",
     "collapsed": false,
     "input": [],
     "language": "python",
     "metadata": {},
     "outputs": [],
     "prompt_number": 90
    },
    {
     "cell_type": "code",
     "collapsed": false,
     "input": [],
     "language": "python",
     "metadata": {},
     "outputs": []
    }
   ],
   "metadata": {}
  }
 ]
}